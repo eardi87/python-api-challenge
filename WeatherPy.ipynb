{
 "cells": [
  {
   "cell_type": "markdown",
   "metadata": {},
   "source": [
    "# WeatherPy\n",
    "----\n",
    "\n",
    "#### Note\n",
    "* Instructions have been included for each segment. You do not have to follow them exactly, but they are included to help you think through the steps."
   ]
  },
  {
   "cell_type": "code",
   "execution_count": null,
   "metadata": {
    "scrolled": true
   },
   "outputs": [],
   "source": [
    "# Dependencies and Setup\n",
    "import matplotlib.pyplot as plt\n",
    "import pandas as pd\n",
    "import numpy as np\n",
    "import requests\n",
    "import time\n",
    "from scipy.stats import linregress\n",
    "\n",
    "# Import API key\n",
    "from api_keys import weather_api_key\n",
    "\n",
    "# Incorporated citipy to determine city based on latitude and longitude\n",
    "from citipy import citipy\n",
    "\n",
    "# Output File (CSV)\n",
    "output_data_file = \"output_data/cities.csv\"\n",
    "\n",
    "# Range of latitudes and longitudes\n",
    "lat_range = (-90, 90)\n",
    "lng_range = (-180, 180)"
   ]
  },
  {
   "cell_type": "markdown",
   "metadata": {},
   "source": [
    "## Generate Cities List"
   ]
  },
  {
   "cell_type": "code",
   "execution_count": null,
   "metadata": {},
   "outputs": [],
   "source": [
    "# List for holding lat_lngs and cities\n",
    "lat_lngs = []\n",
    "cities = []\n",
    "\n",
    "# Create a set of random lat and lng combinations\n",
    "lats = np.random.uniform(lat_range[0], lat_range[1], size=1500)\n",
    "lngs = np.random.uniform(lng_range[0], lng_range[1], size=1500)\n",
    "lat_lngs = zip(lats, lngs)\n",
    "\n",
    "# Identify nearest city for each lat, lng combination\n",
    "for lat_lng in lat_lngs:\n",
    "    city = citipy.nearest_city(lat_lng[0], lat_lng[1]).city_name\n",
    "    \n",
    "    # If the city is unique, then add it to a our cities list\n",
    "    if city not in cities:\n",
    "        cities.append(city)\n",
    "\n",
    "# Print the city count to confirm sufficient count\n",
    "len(cities)"
   ]
  },
  {
   "cell_type": "markdown",
   "metadata": {},
   "source": [
    "### Perform API Calls\n",
    "* Perform a weather check on each city using a series of successive API calls.\n",
    "* Include a print log of each city as it'sbeing processed (with the city number and city name).\n"
   ]
  },
  {
   "cell_type": "code",
   "execution_count": null,
   "metadata": {
    "scrolled": true
   },
   "outputs": [],
   "source": []
  },
  {
   "cell_type": "markdown",
   "metadata": {},
   "source": [
    "### Convert Raw Data to DataFrame\n",
    "* Export the city data into a .csv.\n",
    "* Display the DataFrame"
   ]
  },
  {
   "cell_type": "code",
   "execution_count": null,
   "metadata": {},
   "outputs": [],
   "source": []
  },
  {
   "cell_type": "code",
   "execution_count": null,
   "metadata": {},
   "outputs": [],
   "source": [
    "city_table = pd.read_csv('../output_data/cities.csv')\n",
    "city_data = pd.DataFrame(city_table)\n",
    "city_data"
   ]
  },
  {
   "cell_type": "markdown",
   "metadata": {},
   "source": [
    "## Inspect the data and remove the cities where the humidity > 100%.\n",
    "----\n",
    "Skip this step if there are no cities that have humidity > 100%. "
   ]
  },
  {
   "cell_type": "code",
   "execution_count": null,
   "metadata": {},
   "outputs": [],
   "source": [
    "humidity_100= city_data[city_data.Humidity >=100]"
   ]
  },
  {
   "cell_type": "code",
   "execution_count": null,
   "metadata": {},
   "outputs": [],
   "source": [
    "#  Get the indices of cities that have humidity over 100%.\n",
    "humidity_100.City.sort_values()"
   ]
  },
  {
   "cell_type": "code",
   "execution_count": null,
   "metadata": {},
   "outputs": [],
   "source": [
    "# Make a new DataFrame equal to the city data to drop all humidity outliers by index.\n",
    "# Passing \"inplace=False\" will make a copy of the city_data DataFrame, which we call \"clean_city_data\".\n",
    "clean_city_data = weather_df.drop(index=weather_df[weather_df['Humidity'] >=100].index)"
   ]
  },
  {
   "cell_type": "code",
   "execution_count": null,
   "metadata": {},
   "outputs": [],
   "source": [
    "clean_city_data.shape"
   ]
  },
  {
   "cell_type": "markdown",
   "metadata": {},
   "source": [
    "## Plotting the Data\n",
    "* Use proper labeling of the plots using plot titles (including date of analysis) and axes labels.\n",
    "* Save the plotted figures as .pngs."
   ]
  },
  {
   "cell_type": "markdown",
   "metadata": {},
   "source": [
    "## Latitude vs. Temperature Plot"
   ]
  },
  {
   "cell_type": "code",
   "execution_count": null,
   "metadata": {
    "scrolled": true
   },
   "outputs": [],
   "source": [
    "x_values = clean_city_data['Max Temp']\n",
    "y_values = clean_city_data['Lat']\n",
    "plt.scatter(x_values,y_values)\n",
    "plt.xlabel('Max Temp')\n",
    "plt.ylabel('Lat')\n",
    "plt.title('Max Temperature (F) vs Latitude')\n",
    "plt.show()\n",
    "plt.savefig(\"Latitude vs Temperature Plot.png\")"
   ]
  },
  {
   "cell_type": "markdown",
   "metadata": {},
   "source": [
    "The futher the Latitude from the equator (0), the Max Temperature is become much lower.  The closer the latitude toward the equator, the Max temperature is much higher. "
   ]
  },
  {
   "cell_type": "markdown",
   "metadata": {},
   "source": [
    "## Latitude vs. Humidity Plot"
   ]
  },
  {
   "cell_type": "code",
   "execution_count": null,
   "metadata": {},
   "outputs": [],
   "source": [
    "#Scatter Plot for Humidity (%) vs Latitude\n",
    "x_values = clean_city_data['Humidity']\n",
    "y_values = clean_city_data['Lat']\n",
    "plt.scatter(x_values,y_values)\n",
    "plt.xlabel('Humidity (%)')\n",
    "plt.ylabel('Lat')\n",
    "plt.title('Humidity vs Latitude')\n",
    "plt.show()\n",
    "plt.savefig(\"Latitude vs Humidity Plot.png\")"
   ]
  },
  {
   "cell_type": "markdown",
   "metadata": {},
   "source": [
    "In the Humidity vs Latitude, it's appears to spread equally through out both side of latitude.  "
   ]
  },
  {
   "cell_type": "markdown",
   "metadata": {},
   "source": [
    "## Latitude vs. Cloudiness Plot"
   ]
  },
  {
   "cell_type": "code",
   "execution_count": null,
   "metadata": {},
   "outputs": [],
   "source": [
    "x_values = clean_city_data['Cloudiness']\n",
    "y_values = clean_city_data['Lat']\n",
    "plt.scatter(x_values,y_values)\n",
    "plt.xlabel('Cloudiness (%)')\n",
    "plt.ylabel('Lat')\n",
    "plt.title('Cloudiness vs Latitude')\n",
    "plt.show()\n",
    "plt.savefig(\"Latitude vs Cloudiness Plot.png\")"
   ]
  },
  {
   "cell_type": "markdown",
   "metadata": {},
   "source": [
    "The cloudiness % between both side of the latitude are about the same. There is no particular plot. "
   ]
  },
  {
   "cell_type": "markdown",
   "metadata": {},
   "source": [
    "## Latitude vs. Wind Speed Plot"
   ]
  },
  {
   "cell_type": "code",
   "execution_count": null,
   "metadata": {},
   "outputs": [],
   "source": [
    "#Scatter Plot for Wind Speed (mph) vs Latitude\n",
    "x_values = clean_city_data['Wind Speed']\n",
    "y_values = clean_city_data['Lat']\n",
    "plt.scatter(x_values,y_values)\n",
    "plt.xlabel('Wind Speed')\n",
    "plt.ylabel('Lat')\n",
    "plt.title('Wind Speed vs Latitude')\n",
    "plt.show()\n",
    "plt.savefig(\"Latitude vs Wind Speed Plot.png\")"
   ]
  },
  {
   "cell_type": "markdown",
   "metadata": {},
   "source": [
    "## Linear Regression"
   ]
  },
  {
   "cell_type": "code",
   "execution_count": null,
   "metadata": {},
   "outputs": [],
   "source": [
    "#Scatter Plot for Humidity (%) vs Latitude\n",
    "\n",
    "# Perform a linear regression on temperature vs. latitude\n",
    "(slope, intercept, rvalue, pvalue, stderr) = linregress(x_values, y_values)\n",
    "\n",
    "# Get regression values\n",
    "x_values = clean_city_data['Max Temp']\n",
    "y_values = clean_city_data['Lat']\n",
    "plt.scatter(x_values,y_values)\n",
    "\n",
    "regress_values = x_values * slope + intercept\n",
    "line_eq = \"y = \" + str(round(slope,2)) + \"x +\" + str(round(intercept,2))\n",
    "plt.plot(x_values,regress_values,\"r-\")\n",
    "\n",
    "plt.xlabel('Max Temp (%)')\n",
    "plt.ylabel('Lat')\n",
    "plt.title('Max Temp vs Latitude Linear Regression')\n",
    "plt.annotate(line_eq,(70,-50),fontsize=15,color=\"red\")\n",
    "\n",
    "# Print r value\n",
    "print(f\"The r-value is: {rvalue**2}\")\n",
    "\n",
    "plt.show()\n",
    "plt.savefig(\"Latitude vs Max Temp Plot Linear Regression.png\")"
   ]
  },
  {
   "cell_type": "markdown",
   "metadata": {},
   "source": [
    "####  Northern Hemisphere - Max Temp vs. Latitude Linear Regression"
   ]
  },
  {
   "cell_type": "code",
   "execution_count": null,
   "metadata": {},
   "outputs": [],
   "source": [
    "NH_clean_city_data = clean_city_data[clean_city_data.Lat>=0]\n",
    "\n",
    "(slope, intercept, rvalue, pvalue, stderr) = linregress(x_values, y_values)\n",
    "\n",
    "x_values = NH_clean_city_data['Max Temp']\n",
    "y_values = NH_clean_city_data['Lat']\n",
    "\n",
    "regress_values = x_values * slope + intercept\n",
    "line_eq = \"y = \" + str(round(slope,2)) + \"x +\" + str(round(intercept,2))\n",
    "plt.plot(x_values,regress_values,\"r-\")\n",
    "\n",
    "print(f\"The r-value is: {rvalue**2}\")\n",
    "plt.scatter(x_values,y_values)\n",
    "plt.xlabel('Max Temp')\n",
    "plt.ylabel('Lat')\n",
    "plt.title('Northern Hemisphere Max Temperature (F) vs Latitude')\n",
    "plt.annotate(line_eq,(10,0),fontsize=15,color=\"red\")\n",
    "plt.show()\n",
    "plt.savefig(\"North Latitude vs Temperature Plot.png\")"
   ]
  },
  {
   "cell_type": "markdown",
   "metadata": {},
   "source": [
    "####  Southern Hemisphere - Max Temp vs. Latitude Linear Regression"
   ]
  },
  {
   "cell_type": "code",
   "execution_count": null,
   "metadata": {},
   "outputs": [],
   "source": [
    "SH_clean_city_data = clean_city_data[clean_city_data.Lat<0]\n",
    "\n",
    "(slope, intercept, rvalue, pvalue, stderr) = linregress(x_values, y_values)\n",
    "\n",
    "x_values = SH_clean_city_data['Max Temp']\n",
    "y_values = SH_clean_city_data['Lat']\n",
    "\n",
    "regress_values = x_values * slope + intercept\n",
    "line_eq = \"y = \" + str(round(slope,2)) + \"x +\" + str(round(intercept,2))\n",
    "plt.plot(x_values,regress_values,\"r-\")\n",
    "\n",
    "print(f\"The r-value is: {rvalue**2}\")\n",
    "plt.scatter(x_values,y_values)\n",
    "plt.xlabel('Max Temp')\n",
    "plt.ylabel('Lat')\n",
    "plt.title('Southern Hemisphere Max Temperature (F) vs Latitude')\n",
    "plt.annotate(line_eq,(70,-40),fontsize=15,color=\"red\")\n",
    "plt.show()\n",
    "plt.savefig(\"South Latitude vs Temperature Plot.png\")"
   ]
  },
  {
   "cell_type": "markdown",
   "metadata": {},
   "source": [
    "####  Northern Hemisphere - Humidity (%) vs. Latitude Linear Regression"
   ]
  },
  {
   "cell_type": "code",
   "execution_count": null,
   "metadata": {},
   "outputs": [],
   "source": [
    "(slope, intercept, rvalue, pvalue, stderr) = linregress(x_values, y_values)\n",
    "\n",
    "x_values = NH_clean_city_data['Humidity']\n",
    "y_values = NH_clean_city_data['Lat']\n",
    "\n",
    "regress_values = x_values * slope + intercept\n",
    "line_eq = \"y = \" + str(round(slope,2)) + \"x +\" + str(round(intercept,2))\n",
    "plt.plot(x_values,regress_values,\"r-\")\n",
    "\n",
    "print(f\"The r-value is: {rvalue**2}\")\n",
    "plt.scatter(x_values,y_values)\n",
    "plt.xlabel('Humidity')\n",
    "plt.ylabel('Lat')\n",
    "plt.title('Northern Hemisphere Humidity vs Latitude')\n",
    "plt.annotate(line_eq,(10,0),fontsize=15,color=\"red\")\n",
    "plt.show()\n",
    "plt.savefig(\"North Latitude vs Humidity Plot.png\")"
   ]
  },
  {
   "cell_type": "markdown",
   "metadata": {},
   "source": [
    "####  Southern Hemisphere - Humidity (%) vs. Latitude Linear Regression"
   ]
  },
  {
   "cell_type": "code",
   "execution_count": null,
   "metadata": {},
   "outputs": [],
   "source": [
    "(slope, intercept, rvalue, pvalue, stderr) = linregress(x_values, y_values)\n",
    "\n",
    "x_values = SH_clean_city_data['Humidity']\n",
    "y_values = SH_clean_city_data['Lat']\n",
    "\n",
    "regress_values = x_values * slope + intercept\n",
    "line_eq = \"y = \" + str(round(slope,2)) + \"x +\" + str(round(intercept,2))\n",
    "plt.plot(x_values,regress_values,\"r-\")\n",
    "\n",
    "print(f\"The r-value is: {rvalue**2}\")\n",
    "plt.scatter(x_values,y_values)\n",
    "plt.xlabel('Humidity')\n",
    "plt.ylabel('Lat')\n",
    "plt.title('Southern Hemisphere Humidity vs Latitude')\n",
    "plt.annotate(line_eq,(70,-50),fontsize=15,color=\"red\")\n",
    "plt.show()\n",
    "plt.savefig(\"South Latitude vs Humidity Plot.png\")"
   ]
  },
  {
   "cell_type": "markdown",
   "metadata": {},
   "source": [
    "####  Northern Hemisphere - Cloudiness (%) vs. Latitude Linear Regression"
   ]
  },
  {
   "cell_type": "code",
   "execution_count": null,
   "metadata": {},
   "outputs": [],
   "source": [
    "x_values = NH_clean_city_data['Cloudiness']\n",
    "y_values = NH_clean_city_data['Lat']\n",
    "\n",
    "regress_values = x_values * slope + intercept\n",
    "line_eq = \"y = \" + str(round(slope,2)) + \"x +\" + str(round(intercept,2))\n",
    "plt.plot(x_values,regress_values,\"r-\")\n",
    "\n",
    "print(f\"The r-value is: {rvalue**2}\")\n",
    "plt.scatter(x_values,y_values)\n",
    "plt.xlabel('Cloudiness')\n",
    "plt.ylabel('Lat')\n",
    "plt.title('Northern Hemisphere Cloudiness vs Latitude')\n",
    "plt.annotate(line_eq,(10,0),fontsize=15,color=\"red\")\n",
    "plt.show()\n",
    "plt.savefig(\"North Latitude vs Cloudiness Plot.png\")"
   ]
  },
  {
   "cell_type": "markdown",
   "metadata": {},
   "source": [
    "####  Southern Hemisphere - Cloudiness (%) vs. Latitude Linear Regression"
   ]
  },
  {
   "cell_type": "code",
   "execution_count": null,
   "metadata": {},
   "outputs": [],
   "source": [
    "x_values = SH_clean_city_data['Cloudiness']\n",
    "y_values = SH_clean_city_data['Lat']\n",
    "\n",
    "regress_values = x_values * slope + intercept\n",
    "line_eq = \"y = \" + str(round(slope,2)) + \"x +\" + str(round(intercept,2))\n",
    "plt.plot(x_values,regress_values,\"r-\")\n",
    "\n",
    "print(f\"The r-value is: {rvalue**2}\")\n",
    "plt.scatter(x_values,y_values)\n",
    "plt.xlabel('Cloudiness')\n",
    "plt.ylabel('Lat')\n",
    "plt.title('Southern Hemisphere Cloudiness vs Latitude')\n",
    "plt.annotate(line_eq,(70,-50),fontsize=15,color=\"red\")\n",
    "plt.show()\n",
    "plt.savefig(\"South Latitude vs Cloudiness Plot.png\")"
   ]
  },
  {
   "cell_type": "markdown",
   "metadata": {},
   "source": [
    "####  Northern Hemisphere - Wind Speed (mph) vs. Latitude Linear Regression"
   ]
  },
  {
   "cell_type": "code",
   "execution_count": null,
   "metadata": {},
   "outputs": [],
   "source": [
    "x_values = NH_clean_city_data['Wind Speed']\n",
    "y_values = NH_clean_city_data['Lat']\n",
    "\n",
    "regress_values = x_values * slope + intercept\n",
    "line_eq = \"y = \" + str(round(slope,2)) + \"x +\" + str(round(intercept,2))\n",
    "plt.plot(x_values,regress_values,\"r-\")\n",
    "\n",
    "print(f\"The r-value is: {rvalue**2}\")\n",
    "plt.scatter(x_values,y_values)\n",
    "plt.xlabel('Wind Speed')\n",
    "plt.ylabel('Lat')\n",
    "plt.title('Northern Hemisphere Wind Speed vs Latitude')\n",
    "plt.annotate(line_eq,(10,-10),fontsize=15,color=\"red\")\n",
    "plt.show()\n",
    "plt.savefig(\"North Latitude vs Wind Speed Plot.png\")"
   ]
  },
  {
   "cell_type": "markdown",
   "metadata": {},
   "source": [
    "####  Southern Hemisphere - Wind Speed (mph) vs. Latitude Linear Regression"
   ]
  },
  {
   "cell_type": "code",
   "execution_count": null,
   "metadata": {},
   "outputs": [],
   "source": [
    "x_values = SH_clean_city_data['Wind Speed']\n",
    "y_values = SH_clean_city_data['Lat']\n",
    "\n",
    "regress_values = x_values * slope + intercept\n",
    "line_eq = \"y = \" + str(round(slope,2)) + \"x +\" + str(round(intercept,2))\n",
    "plt.plot(x_values,regress_values,\"r-\")\n",
    "\n",
    "print(f\"The r-value is: {rvalue**2}\")\n",
    "plt.scatter(x_values,y_values)\n",
    "plt.xlabel('Wind Speed')\n",
    "plt.ylabel('Lat')\n",
    "plt.title('Southern Hemisphere Wind Speed vs Latitude')\n",
    "plt.annotate(line_eq,(10,-50),fontsize=15,color=\"red\")\n",
    "plt.show()\n",
    "plt.savefig(\"South Latitude vs Wind Speed Plot.png\")"
   ]
  },
  {
   "cell_type": "code",
   "execution_count": null,
   "metadata": {},
   "outputs": [],
   "source": []
  }
 ],
 "metadata": {
  "anaconda-cloud": {},
  "kernel_info": {
   "name": "python3"
  },
  "kernelspec": {
   "display_name": "Python 3",
   "language": "python",
   "name": "python3"
  },
  "language_info": {
   "codemirror_mode": {
    "name": "ipython",
    "version": 3
   },
   "file_extension": ".py",
   "mimetype": "text/x-python",
   "name": "python",
   "nbconvert_exporter": "python",
   "pygments_lexer": "ipython3",
   "version": "3.7.4"
  },
  "latex_envs": {
   "LaTeX_envs_menu_present": true,
   "autoclose": false,
   "autocomplete": true,
   "bibliofile": "biblio.bib",
   "cite_by": "apalike",
   "current_citInitial": 1,
   "eqLabelWithNumbers": true,
   "eqNumInitial": 1,
   "hotkeys": {
    "equation": "Ctrl-E",
    "itemize": "Ctrl-I"
   },
   "labels_anchors": false,
   "latex_user_defs": false,
   "report_style_numbering": false,
   "user_envs_cfg": false
  },
  "nteract": {
   "version": "0.12.3"
  }
 },
 "nbformat": 4,
 "nbformat_minor": 2
}
